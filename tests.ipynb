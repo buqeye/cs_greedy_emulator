{
 "cells": [
  {
   "cell_type": "code",
   "execution_count": 1,
   "metadata": {},
   "outputs": [],
   "source": [
    "%load_ext autoreload\n",
    "%autoreload 2\n",
    "import sys\n",
    "sys.path.append(\"./modules\")\n",
    "\n",
    "import os\n",
    "import argparse\n",
    "import numpy as np\n",
    "import matplotlib.pyplot as plt\n",
    "\n",
    "from Potential import Potential\n",
    "from Channel import Channel\n",
    "from Scattering import Scattering\n",
    "from ScatteringExp import ScatteringExp\n",
    "from Grid import Grid\n",
    "import RseSolver\n",
    "from scipy.special import factorial2, spherical_jn\n",
    "from plots.rc_params import *"
   ]
  },
  {
   "cell_type": "code",
   "execution_count": 2,
   "metadata": {},
   "outputs": [],
   "source": [
    "potentialArgs = {\"label\": \"minnesota\", \"kwargs\": {\"potId\": 213}}\n",
    "l = 2\n",
    "channel = Channel(S=0, L=l, LL=l, J=l, channel=0)\n",
    "potential = Potential(channel, **potentialArgs)\n",
    "E_MeV = 50\n",
    "scattExp = ScatteringExp(E_MeV=E_MeV, potential=potential)\n",
    "rmatch = 12\n",
    "grid = Grid(1e-24, rmatch, numIntervals=1, numPointsPerInterval=1000,\n",
    "            type=\"linear\", test=False)  # needs equidistant grids as of now\n",
    "trainingLecList, testingLecList = Potential.getSampleLecs(potentialArgs[\"label\"])\n",
    "\n",
    "emulator_args = dict(scattExp=scattExp, \n",
    "                          grid=grid, \n",
    "                          free_lecs={\"V1\": (-400, 0)},\n",
    "                          num_snapshots_init=80, \n",
    "                          num_snapshots_max=100,\n",
    "                          approach=\"pod\", \n",
    "                          pod_rcond=1e-12, \n",
    "                          init_snapshot_lecs=None,\n",
    "                          greedy_max_iter=5, \n",
    "                          inhomogeneous=True,\n",
    "                          mode=\"linear\")"
   ]
  },
  {
   "cell_type": "code",
   "execution_count": 3,
   "metadata": {},
   "outputs": [],
   "source": [
    "lecs = np.array([[1,200,-91.85], [1,200,-91.85]])"
   ]
  },
  {
   "cell_type": "code",
   "execution_count": 4,
   "metadata": {},
   "outputs": [
    {
     "name": "stdout",
     "output_type": "stream",
     "text": [
      "using 8 out of 80 POD modes in total: compression rate is 90.0 %\n",
      "POD[ Y ]: compression rate is 37.0 %; dim: (1000, 17)\n",
      "using 7 out of 80 POD modes in total: compression rate is 91.2 %\n",
      "POD[ Y ]: compression rate is 33.3 %; dim: (1000, 16)\n",
      "testing\n",
      "using 7 out of 80 POD modes in total: compression rate is 91.2 %\n",
      "POD[ Y ]: compression rate is 33.3 %; dim: (998, 16)\n"
     ]
    }
   ],
   "source": [
    "from NumerovEmulator import MatrixNumerovROM_ab, MatrixNumerovROM, AllAtOnceNumerovROM\n",
    "# Test config for no greedy\n",
    "emulator_T = AllAtOnceNumerovROM(**emulator_args)\n",
    "emulator_ab = MatrixNumerovROM_ab(**emulator_args)\n",
    "emulator = MatrixNumerovROM(**emulator_args)"
   ]
  },
  {
   "cell_type": "code",
   "execution_count": 5,
   "metadata": {},
   "outputs": [],
   "source": [
    "# %timeit emulator_T.simulate(lecs) \n",
    "# %timeit emulator_T.emulate(lecs, mode=\"lspg\", lspg_solver=\"qr\") "
   ]
  },
  {
   "cell_type": "code",
   "execution_count": 6,
   "metadata": {},
   "outputs": [
    {
     "name": "stdout",
     "output_type": "stream",
     "text": [
      "[0.12807611+6.38821773e-11j 0.12807611+6.38821773e-11j]\n",
      "[0.96772248+0.25201824j 0.96772248+0.25201824j]\n",
      "[0.12807611+6.3882153e-11j 0.12807611+6.3882153e-11j]\n",
      "[0.12600912+0.01613876j 0.12600912+0.01613876j]\n",
      "[0.12807611 0.12807611]\n",
      "[0.96772248+0.25201824j 0.96772248+0.25201824j]\n"
     ]
    }
   ],
   "source": [
    "def get_Kmat(S):\n",
    "    return (1-S)/(1+S)*1j\n",
    "print(get_Kmat(emulator_T.simulate(lecs, which=\"S\")))\n",
    "print(emulator_T.simulate(lecs, which=\"S\"))\n",
    "print(emulator_T.simulate(lecs, which=\"K\"))\n",
    "print(emulator_T.simulate(lecs, which=\"T\"))\n",
    "print(emulator_ab.simulate(lecs, which=\"K\"))\n",
    "print(emulator.simulate(lecs, which=\"S\"))"
   ]
  },
  {
   "cell_type": "code",
   "execution_count": 7,
   "metadata": {},
   "outputs": [
    {
     "name": "stdout",
     "output_type": "stream",
     "text": [
      "[[-0.24216361 -0.24216361]\n",
      " [ 0.10966459  0.10966459]]\n",
      "diff1 [[ 2.77555756e-17  2.77555756e-17]\n",
      " [-2.77555756e-17 -2.77555756e-17]]\n",
      "diff2 [[2.77555756e-17 2.77555756e-17]\n",
      " [0.00000000e+00 0.00000000e+00]]\n",
      "diff3 [[0.00000000e+00 0.00000000e+00]\n",
      " [2.77555756e-17 2.77555756e-17]]\n",
      "\n",
      "[[0.02580365 0.02580365]\n",
      " [0.02894738 0.02894738]\n",
      " [0.03208625 0.03208625]\n",
      " [0.03521974 0.03521974]\n",
      " [0.03834731 0.03834731]\n",
      " [0.04146845 0.04146845]\n",
      " [0.04458263 0.04458263]\n",
      " [0.04768933 0.04768933]\n",
      " [0.05078802 0.05078802]\n",
      " [0.05387819 0.05387819]\n",
      " [0.05695931 0.05695931]\n",
      " [0.06003087 0.06003087]\n",
      " [0.06309235 0.06309235]\n",
      " [0.06614323 0.06614323]\n",
      " [0.06918301 0.06918301]\n",
      " [0.07221116 0.07221116]\n",
      " [0.07522719 0.07522719]\n",
      " [0.07823058 0.07823058]\n",
      " [0.08122083 0.08122083]\n",
      " [0.08419744 0.08419744]\n",
      " [0.0871599  0.0871599 ]\n",
      " [0.09010771 0.09010771]\n",
      " [0.09304039 0.09304039]\n",
      " [0.09595743 0.09595743]\n",
      " [0.09885834 0.09885834]]\n",
      "[0.12807611 0.12807611]\n"
     ]
    }
   ],
   "source": [
    "def get_Kmat(S):\n",
    "    return (1-S)/(1+S)*1j\n",
    "# print(get_Kmat(emulator_T.emulate(lecs, which=\"S\")))\n",
    "# print(emulator_T.emulate(lecs, which=\"S\"))\n",
    "# print(emulator_T.emulate(lecs, which=\"K\"))\n",
    "# print(emulator_T.emulate(lecs, which=\"T\"))\n",
    "# print(emulator_ab.emulate(lecs, which=\"K\"))\n",
    "print(emulator.emulate(lecs, which=\"K\"))"
   ]
  },
  {
   "cell_type": "code",
   "execution_count": 8,
   "metadata": {},
   "outputs": [
    {
     "data": {
      "text/plain": [
       "array([[-0.2204676 , -0.2204676 ],\n",
       "       [ 0.09983948,  0.09983948]])"
      ]
     },
     "execution_count": 8,
     "metadata": {},
     "output_type": "execute_result"
    }
   ],
   "source": [
    "emulator_ab.simulate(lecs, which=\"all\")[-2:]"
   ]
  },
  {
   "cell_type": "code",
   "execution_count": 9,
   "metadata": {},
   "outputs": [
    {
     "name": "stdout",
     "output_type": "stream",
     "text": [
      "[0.12807611 0.12807611]\n"
     ]
    }
   ],
   "source": [
    "# print(emulator_T.emulate(lecs, which=\"all\")[-1])\n",
    "print(emulator_ab.emulate(lecs, which=\"K\"))\n",
    "# print(emulator.emulate(lecs, which=\"T\"))"
   ]
  },
  {
   "cell_type": "code",
   "execution_count": 10,
   "metadata": {},
   "outputs": [
    {
     "data": {
      "text/plain": [
       "5.9396931817445875e-15"
      ]
     },
     "execution_count": 10,
     "metadata": {},
     "output_type": "execute_result"
    }
   ],
   "source": [
    "np.max(np.abs(emulator.simulate(lecs) - emulator_ab.simulate(lecs)[:-2,:]))"
   ]
  },
  {
   "cell_type": "code",
   "execution_count": 11,
   "metadata": {},
   "outputs": [
    {
     "ename": "AttributeError",
     "evalue": "'AllAtOnceNumerovROM' object has no attribute 'emulate_Tmatrix'",
     "output_type": "error",
     "traceback": [
      "\u001b[0;31m---------------------------------------------------------------------------\u001b[0m",
      "\u001b[0;31mAttributeError\u001b[0m                            Traceback (most recent call last)",
      "Cell \u001b[0;32mIn[11], line 1\u001b[0m\n\u001b[0;32m----> 1\u001b[0m aa \u001b[38;5;241m=\u001b[39m \u001b[43memulator_T\u001b[49m\u001b[38;5;241;43m.\u001b[39;49m\u001b[43memulate_Tmatrix\u001b[49m(lecs, estimate_norm_residual\u001b[38;5;241m=\u001b[39m\u001b[38;5;28;01mTrue\u001b[39;00m)\n\u001b[1;32m      2\u001b[0m \u001b[38;5;241m1\u001b[39m \u001b[38;5;241m+\u001b[39m \u001b[38;5;241m2\u001b[39mj \u001b[38;5;241m*\u001b[39m aa\n",
      "\u001b[0;31mAttributeError\u001b[0m: 'AllAtOnceNumerovROM' object has no attribute 'emulate_Tmatrix'"
     ]
    }
   ],
   "source": [
    "aa = emulator_T.emulate_Tmatrix(lecs, estimate_norm_residual=True)\n",
    "1 + 2j * aa"
   ]
  },
  {
   "cell_type": "code",
   "execution_count": null,
   "metadata": {},
   "outputs": [
    {
     "data": {
      "text/plain": [
       "array([-0.50738448+0.43454838j])"
      ]
     },
     "execution_count": 100,
     "metadata": {},
     "output_type": "execute_result"
    }
   ],
   "source": [
    "Smat = emulator_T.emulate_Smatrix(lecs, estimate_norm_residual=True)\n",
    "# np.abs(emulator_T.emulate_Smatrix(lecs, estimate_norm_residual=True))\n",
    "np.log(Smat)/(2j)\n"
   ]
  },
  {
   "cell_type": "code",
   "execution_count": null,
   "metadata": {},
   "outputs": [
    {
     "data": {
      "text/plain": [
       "1.556367162194613"
      ]
     },
     "execution_count": 24,
     "metadata": {},
     "output_type": "execute_result"
    }
   ],
   "source": [
    "np.max(np.abs(emulator_T.simulate(lecs)[:-1,:] - emulator_ab.simulate(lecs)[:-2,:]))"
   ]
  },
  {
   "cell_type": "code",
   "execution_count": null,
   "metadata": {},
   "outputs": [
    {
     "data": {
      "text/plain": [
       "array([1, 2, 3])"
      ]
     },
     "execution_count": 17,
     "metadata": {},
     "output_type": "execute_result"
    }
   ],
   "source": [
    "aaa = np.array([1,2,3])\n",
    "a = aaa[0]\n",
    "a = 333\n",
    "aaa"
   ]
  },
  {
   "cell_type": "code",
   "execution_count": null,
   "metadata": {},
   "outputs": [],
   "source": []
  }
 ],
 "metadata": {
  "kernelspec": {
   "display_name": "env",
   "language": "python",
   "name": "python3"
  },
  "language_info": {
   "codemirror_mode": {
    "name": "ipython",
    "version": 3
   },
   "file_extension": ".py",
   "mimetype": "text/x-python",
   "name": "python",
   "nbconvert_exporter": "python",
   "pygments_lexer": "ipython3",
   "version": "3.12.3"
  }
 },
 "nbformat": 4,
 "nbformat_minor": 2
}
