{
 "cells": [
  {
   "cell_type": "code",
   "execution_count": 1,
   "metadata": {},
   "outputs": [],
   "source": [
    "%load_ext autoreload\n",
    "%autoreload 2\n",
    "import sys\n",
    "sys.path.append(\"./modules\")\n",
    "\n",
    "import os\n",
    "import argparse\n",
    "import numpy as np\n",
    "import matplotlib.pyplot as plt\n",
    "\n",
    "from Potential import Potential\n",
    "from Channel import Channel\n",
    "from Scattering import Scattering\n",
    "from ScatteringExp import ScatteringExp\n",
    "from Grid import Grid\n",
    "import RseSolver\n",
    "from scipy.special import factorial2, spherical_jn\n",
    "from plots.rc_params import *"
   ]
  },
  {
   "cell_type": "code",
   "execution_count": 8,
   "metadata": {},
   "outputs": [],
   "source": [
    "potentialArgs = {\"label\": \"minnesota\", \"kwargs\": {\"potId\": 213}}\n",
    "# lvalues = [0]\n",
    "# channels = [Channel(S=0, L=l, LL=l, J=l, channel=0) for l in lvalues]  # only spin 0 \n",
    "\n",
    "l = 2\n",
    "channel = Channel(S=0, L=l, LL=l, J=l, channel=0)\n",
    "potential = Potential(channel, **potentialArgs)\n",
    "trainingLecList, testingLecList = Potential.getSampleLecs(potentialArgs[\"label\"])"
   ]
  },
  {
   "cell_type": "code",
   "execution_count": 25,
   "metadata": {},
   "outputs": [
    {
     "name": "stdout",
     "output_type": "stream",
     "text": [
      "testing\n"
     ]
    }
   ],
   "source": [
    "potentialArgs = {\"label\": \"minnesota\", \"kwargs\": {\"potId\": 213}}\n",
    "l = 0\n",
    "channel = Channel(S=0, L=l, LL=l, J=l, channel=0)\n",
    "potential = Potential(channel, **potentialArgs)\n",
    "E_MeV = 50\n",
    "scattExp = ScatteringExp(E_MeV=E_MeV, potential=potential)\n",
    "rmatch = 10\n",
    "grid = Grid(1e-24, rmatch, numIntervals=1, numPointsPerInterval=600,\n",
    "            type=\"linear\", test=False)  # needs equidistant grids as of now\n",
    "trainingLecList, testingLecList = Potential.getSampleLecs(potentialArgs[\"label\"])\n",
    "\n",
    "from NumerovEmulator import AffineGROM\n",
    "# Test config for no greedy\n",
    "emulator_pod = AffineGROM(potential=potential, channel=channel, scattExp=scattExp, \n",
    "                               num_snapshots_init=7, greedy_max_iter=5, num_snapshots_max=100,\n",
    "                               pod=False, greedy=False, grid=grid, free_lecs=(\"V0\",))"
   ]
  },
  {
   "cell_type": "code",
   "execution_count": null,
   "metadata": {},
   "outputs": [],
   "source": []
  }
 ],
 "metadata": {
  "kernelspec": {
   "display_name": "env",
   "language": "python",
   "name": "python3"
  },
  "language_info": {
   "codemirror_mode": {
    "name": "ipython",
    "version": 3
   },
   "file_extension": ".py",
   "mimetype": "text/x-python",
   "name": "python",
   "nbconvert_exporter": "python",
   "pygments_lexer": "ipython3",
   "version": "3.11.8"
  }
 },
 "nbformat": 4,
 "nbformat_minor": 2
}
