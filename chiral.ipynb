{
 "cells": [
  {
   "cell_type": "markdown",
   "metadata": {},
   "source": [
    "## Local chiral potentials\n",
    "\n",
    "We use here the local chiral potentials [GT+](https://arxiv.org/abs/1406.0454) up to N2LO, which are commonly used in quantum Monte Carlo (QMC) calculations of finite nuclei and infinite matter. \n",
    "\n",
    "We have developed an affine decomposed version of the original `C++` source code provided by the developers. It matches the original, non-affine decomposed version of the code very well."
   ]
  },
  {
   "cell_type": "code",
   "execution_count": 1,
   "metadata": {},
   "outputs": [],
   "source": [
    "%load_ext autoreload\n",
    "%autoreload 2\n",
    "import sys\n",
    "sys.path.append(\"./modules\")\n",
    "\n",
    "import numpy as np\n",
    "import matplotlib.pyplot as plt\n",
    "from Potential import Potential, chiral, chiral_affine\n",
    "from Channel import Channel"
   ]
  },
  {
   "cell_type": "code",
   "execution_count": 13,
   "metadata": {},
   "outputs": [
    {
     "data": {
      "text/plain": [
       "array([  -5.53041341,   15.31411662,   15.31411662, -102.3864922 ,\n",
       "        307.15947659, -102.3864922 ,  307.15947659, -140.04679124,\n",
       "        220.85788572, -662.57365715,    0.        ,    0.        ])"
      ]
     },
     "execution_count": 13,
     "metadata": {},
     "output_type": "execute_result"
    }
   ],
   "source": [
    "potentialArgs = {\"label\": \"chiral\", \"kwargs\": {\"potId\": 233}}\n",
    "l = 0\n",
    "channel = Channel(S=1, L=2, LL=2, J=1, channel=0)\n",
    "potential = Potential(channel, **potentialArgs)\n",
    "r = 1.\n",
    "aff_decomp = chiral_affine(r, channel, **potentialArgs[\"kwargs\"])\n",
    "aff_decomp"
   ]
  },
  {
   "cell_type": "code",
   "execution_count": 5,
   "metadata": {},
   "outputs": [
    {
     "data": {
      "text/plain": [
       "{'potId': 233,\n",
       " 'order': 2,\n",
       " 'R0': 0.9,\n",
       " 'lambda': 1000,\n",
       " 'CS': 7.74784,\n",
       " 'CNN': 0.04164,\n",
       " 'CPP': 0.06329,\n",
       " 'CT': 0.45247,\n",
       " 'C1': -0.21715,\n",
       " 'C2': 0.03457,\n",
       " 'C3': -0.11535,\n",
       " 'C4': 0.11818,\n",
       " 'C5': -2.41603,\n",
       " 'C6': 0.15463,\n",
       " 'C7': -0.26709}"
      ]
     },
     "execution_count": 5,
     "metadata": {},
     "output_type": "execute_result"
    }
   ],
   "source": [
    "import yaml\n",
    "with open(\"data/localGT+_lecs_order_2_R0_0.9_lam_1000.yaml\", 'r') as stream:\n",
    "    lecs = yaml.safe_load(stream)\n",
    "lecs"
   ]
  },
  {
   "cell_type": "code",
   "execution_count": 6,
   "metadata": {},
   "outputs": [],
   "source": [
    "lec_vec = np.array([1.] + [lecs[elem] for elem in (\"CS\", \"CT\", \"C1\", \"C2\", \"C3\", \"C4\", \"C5\", \"C6\", \"C7\", \"CNN\", \"CPP\")])\n",
    "potval_via_aff_decomp = aff_decomp @ lec_vec"
   ]
  },
  {
   "cell_type": "code",
   "execution_count": 7,
   "metadata": {},
   "outputs": [],
   "source": [
    "potval = chiral(r, channel, **lecs)\n",
    "diff = potval_via_aff_decomp - potval\n",
    "assert diff < 1e-13, f\"difference (aff. vs. nonaffine evaluation): {diff:e} MeV\""
   ]
  },
  {
   "cell_type": "code",
   "execution_count": 14,
   "metadata": {},
   "outputs": [
    {
     "data": {
      "text/plain": [
       "Text(0, 0.5, 'V(r) [fm$^{-1}$]')"
      ]
     },
     "execution_count": 14,
     "metadata": {},
     "output_type": "execute_result"
    },
    {
     "data": {
      "image/png": "[encoded data removed]",
      "text/plain": [
       "<Figure size 640x480 with 1 Axes>"
      ]
     },
     "metadata": {},
     "output_type": "display_data"
    }
   ],
   "source": [
    "hbarc = 197.326\n",
    "rarr = np.linspace(0., 4., 1000)\n",
    "yarr = np.array([chiral(r, channel, **lecs) for r in rarr])\n",
    "plt.plot(rarr, yarr / hbarc)\n",
    "plt.axhline(0, c=\"k\")\n",
    "plt.xlabel(\"r [fm]\")\n",
    "plt.ylabel(\"V(r) [fm$^{-1}$]\")"
   ]
  },
  {
   "cell_type": "code",
   "execution_count": null,
   "metadata": {},
   "outputs": [],
   "source": [
    "for (S, L, LL, J, mT) in product(S_arr, L_arr, LL_arr, J_arr, mT_arr):\n",
    "    try:\n",
    "        channel = Channel(S=S, L=L, LL=LL, J=J, channel=mT)\n",
    "    except ValueError:\n",
    "        continue  # ignore unphysical pw channel\n",
    "    \n",
    "    with open(\"data/localGT+_lecs_order_2_R0_0.9_lam_1000.yaml\", 'r') as stream:\n",
    "        lecs = yaml.safe_load(stream)\n",
    "    lec_vec = np.array([1.] + [lecs[elem] for elem in lec_lbls])\n",
    "    \n",
    "    for r in np.random.uniform(low=1e-3, high=4., size=1000):\n",
    "        aff_decomp = chiral_affine(r, channel, **potentialArgs[\"kwargs\"])\n",
    "        potval_via_aff_decomp = aff_decomp @ lec_vec\n",
    "        potval = chiral(r, channel, **lecs)\n",
    "        assert np.allclose(potval_via_aff_decomp, potval, atol=1e-12, rtol=0.), \\\n",
    "            f\"difference (aff. vs. nonaffine evaluation): {potval_via_aff_decomp - potval:e} MeV\""
   ]
  },
  {
   "cell_type": "markdown",
   "metadata": {},
   "source": [
    "## Transforming low-energy constants (LECs)\n",
    "\n",
    "The (Lagrangian) low-energery constants (LECs) $C_S, C_T,$ and $C_{1-7}$ were fit to NN phase shifts. In every partial wave only certain LECs contribute. In the following we give the partial \n",
    "wave decomposition for all relevant channels. We use spectroscopic LECs given in terms of $C_S, C_T,$ and $C_{1-7}$ as follows:\n",
    "\n",
    "\\begin{align}\n",
    "d_{11}^{(np)} & =C_S^{(np)} + C_T \\,,  \\\\\n",
    "d_{22}^{(m_T)} & =C_S^{(m_T)}-3C_T \\,, \\quad m_T = \\text{np}, \\, \\text{nn}, \\, \\text{pp}\\\\\n",
    "d_{1} & =C_1-3C_2+C_3-3C_4 \\,, \\\\\n",
    "d_{2} & =C_6-3C_7 \\,, \\\\\n",
    "d_{3} & =C_1+C_2-3C_3-3C_4 \\,, \\\\\n",
    "d_{4} & =C_1+C_2+C_3+C_4 \\,, \\\\\n",
    "d_{5} & =C_1-3C_2-3C_3+9C_4 \\,, \\\\\n",
    "d_{6} & =\\frac{1}{2} C_5 \\,, \\\\\n",
    "d_{7} & = C_6+C_7\\,. \n",
    "\\end{align}\n",
    "\n",
    "Note that $C_S$ include isospin symmetry breaking effects. The authors defined:\n",
    "\n",
    "$$\n",
    "C_S^{(m_T)} = \n",
    "\\begin{cases}\n",
    "C_S  & m_T = \\text{np}\\\\\n",
    "C_S + C_{NN} & m_T = \\text{nn}\\\\\n",
    "C_S + C_{PP} & m_T = \\text{pp}\n",
    "\\end{cases}\n",
    "$$\n",
    "\n",
    "Note the order in which the isospin channels appear. With isospin breaking affects, we can write the linear system as:\n",
    "\n",
    "$$\n",
    "\\begin{pmatrix}\n",
    "d_{11}^{(np)} \\\\\n",
    "d_{22}^{(np)}\\\\\n",
    "d_{22}^{(nn)}\\\\\n",
    "d_{22}^{(pp)}\\\\\n",
    "d_{1} \\\\\n",
    "d_{2} \\\\\n",
    "d_{3} \\\\\n",
    "d_{4} \\\\\n",
    "d_{5} \\\\\n",
    "d_{6} \\\\\n",
    "d_{7} \n",
    "\\end{pmatrix}\n",
    "= \n",
    "\\begin{bmatrix}\n",
    "1 & 0 & 0 & 1 & 0 & 0 & 0 & 0 & 0 & 0 & 0 \\\\\n",
    "1 & 0 & 0 & -3 & 0 & 0 & 0 & 0 & 0 & 0 & 0 \\\\\n",
    "1 & 1 & 0 & -3 & 0 & 0 & 0 & 0 & 0 & 0 & 0 \\\\\n",
    "1 & 0 & 1 & -3 & 0 & 0 & 0 & 0 & 0 & 0 & 0 \\\\\n",
    "0 & 0 & 0 & 0 & 1 & -3 & 1 & -3 & 0 & 0 & 0 \\\\\n",
    "0 & 0 & 0 & 0 & 0 & 0 & 0 & 0 & 0 & 1 & -3 \\\\\n",
    "0 & 0 & 0 & 0 & 1 & 1 & -3 & -3 & 0 & 0 & 0 \\\\\n",
    "0 & 0 & 0 & 0 & 1 & 1 & 1 & 1 & 0 & 0 & 0 \\\\\n",
    "0 & 0 & 0 & 0 & 1 & -3 & -3 & 9 & 0 & 0 & 0 \\\\\n",
    "0 & 0 & 0 & 0 & 0 & 0 & 0 & 0 & \\frac{1}{2} & 0 & 0 \\\\\n",
    "0 & 0 & 0 & 0 & 0 & 0 & 0 & 0 & 0 & 1 & 1\n",
    "\\end{bmatrix}\n",
    "\\begin{pmatrix}\n",
    "C_{S} \\\\\n",
    "C_{NN}\\\\\n",
    "C_{PP}\\\\\n",
    "C_{T}\\\\\n",
    "C_{1} \\\\\n",
    "C_{2} \\\\\n",
    "C_{3} \\\\\n",
    "C_{4} \\\\\n",
    "C_{5} \\\\\n",
    "C_{6} \\\\\n",
    "C_{7} \n",
    "\\end{pmatrix}\n",
    "$$\n",
    "\n",
    "Only the terms with $d_{11}$ and $d_{22}$ are leading order (LO) LECs, the others are next-to-leading (NLO) LECs.\n",
    "We define the following `numpy` array to represent this invertible linear transformation (i.e., matrix)"
   ]
  },
  {
   "cell_type": "code",
   "execution_count": null,
   "metadata": {},
   "outputs": [
    {
     "data": {
      "text/plain": [
       "-2047.9999999999984"
      ]
     },
     "metadata": {},
     "output_type": "display_data"
    }
   ],
   "source": [
    "trafo = np.array([[1 , 0 , 0 , 1 , 0 , 0 , 0 , 0 , 0 , 0 , 0 ],\n",
    "[1 , 0 , 0 , -3 , 0 , 0 , 0 , 0 , 0 , 0 , 0 ],\n",
    "[1 , 1 , 0 , -3 , 0 , 0 , 0 , 0 , 0 , 0 , 0 ],\n",
    "[1 , 0 , 1 , -3 , 0 , 0 , 0 , 0 , 0 , 0 , 0 ],\n",
    "[0 , 0 , 0 , 0 , 1 , -3 , 1 , -3 , 0 , 0 , 0 ],\n",
    "[0 , 0 , 0 , 0 , 0 , 0 , 0 , 0 , 0 , 1 , -3 ],\n",
    "[0 , 0 , 0 , 0 , 1 , 1 , -3 , -3 , 0 , 0 , 0 ],\n",
    "[0 , 0 , 0 , 0 , 1 , 1 , 1 , 1 , 0 , 0 , 0 ],\n",
    "[0 , 0 , 0 , 0 , 1 , -3 , -3 , 9 , 0 , 0 , 0 ],\n",
    "[0 , 0 , 0 , 0 , 0 , 0 , 0 , 0 , 1/2 , 0 , 0 ],\n",
    "[0 , 0 , 0 , 0 , 0 , 0 , 0 , 0 , 0 , 1 , 1]])\n",
    "np.linalg.det(trafo)"
   ]
  },
  {
   "cell_type": "markdown",
   "metadata": {},
   "source": [
    "For the partial-wave-decomposed matrix elements for the NN contact interactions, the developers provide in their appendix the following expressions\n",
    "\n",
    "\\begin{align}\n",
    "\\bra{^1S_0}V_{\\text{cont}}\\ket{^1S_0}&= d_{22}\\delta_{R_0}+(d_3-d_7)\\, 20 \\frac{r^2}{R_0^4}\\delta_{R_0}  \\\\& \\quad-(d_3-d_7) \\, 16 \\frac{r^6}{R_0^8}\\delta_{R_0} \\,,\\\\\n",
    "\\bra{^3S_1}V_{\\text{cont}}\\ket{^3S_1}&= d_{11}\\delta_{R_0}+(d_1+ \\frac{1}{3} d_2)\\, 20 \\frac{r^2}{R_0^4}\\delta_{R_0}  \\\\& \\quad-(d_1+ \\frac{1}{3} d_2)  \\, 16 \\frac{r^6}{R_0^8}\\delta_{R_0}\\,,\\\\\n",
    "\\bra{^3S_1}V_{\\text{cont}}\\ket{^3D_1}&= \\bra{^3D_1}V_{\\text{cont}}\\ket{^3S_1} \\\\&= d_2 \\frac{\\sqrt{8}}{3}\\, 8\\frac{r^2}{R_0^4}\\delta_{R_0}-d_2 \\frac{\\sqrt{8}}{3}\\, 16\\frac{r^6}{R_0^8}\\delta_{R_0}\\,,  \\\\\n",
    "\\bra{^3D_1}V_{\\text{cont}}\\ket{^3D_1}&= d_{11}\\delta_{R_0}-(d_1- \\frac{1}{3} d_2)  \\, 16 \\frac{r^6}{R_0^8}\\delta_{R_0}  \\\\& \\quad + (d_1+ \\frac{3}{5} d_6 +\\frac{1}{15}d_2)\\, 20 \\frac{r^2}{R_0^4}\\delta_{R_0}\\,,\\\\\n",
    "\\bra{^1P_1}V_{\\text{cont}}\\ket{^1P_1}&= \\,d_{22}\\delta_{R_0}+(d_5- d_2)\\, 20 \\frac{r^2}{R_0^4}\\delta_{R_0}  \\\\& \\quad -(d_5- d_2)  \\, 16 \\frac{r^6}{R_0^8}\\delta_{R_0}\\,,\\\\\n",
    "\\bra{^3P_0}V_{\\text{cont}}\\ket{^3P_0}&= d_{11}\\delta_{R_0}-(d_4-d_7)  \\, 16 \\frac{r^6}{R_0^8}\\delta_{R_0}   \\\\& \\quad + (d_4+\\frac{2}{5} d_6 -\\frac{1}{5}d_7)\\, 20 \\frac{r^2}{R_0^4}\\delta_{R_0}\\,,\\\\\n",
    "\\bra{^3P_1}V_{\\text{cont}}\\ket{^3P_1}&= d_{11}\\delta_{R_0}-(d_4+d_7)  \\, 16 \\frac{r^6}{R_0^8}\\delta_{R_0}   \\\\& \\quad + (d_4+ \\frac{1}{5} d_6 + \\frac{3}{5} d_7)\\, 20 \\frac{r^2}{R_0^4}\\delta_{R_0}\\,, \\\\\n",
    "\\bra{^3P_2}V_{\\text{cont}}\\ket{^3P_2}&= d_{11}\\delta_{R_0}-(d_4+ \\frac{1}{5} d_7)  \\, 16 \\frac{r^6}{R_0^8}\\delta_{R_0}  \\\\& \\quad + (d_4- \\frac{1}{5} d_6 +\\frac{7}{25} d_7)\\, 20 \\frac{r^2}{R_0^4}\\delta_{R_0}\\,,\\\\\n",
    "\\bra{^3P_2}V_{\\text{cont}}\\ket{^3F_2}&= \\bra{^3F_2}V_{\\text{cont}}\\ket{^3P_2} \\\\&= \\, d_7 \\sqrt{6}\\frac{16}{5}\\frac{r^2}{R_0^4}\\delta_{R_0}-d_7 \\sqrt{6}\\frac{32}{5} \\frac{r^6}{R_0^8}\\delta_{R_0} \\,,\\\\\n",
    "\\bra{^3F_2}V_{\\text{cont}}\\ket{^3F_2}&= d_{11}\\delta_{R_0}-(d_4- \\frac{1}{5} d_7)  \\, 16 \\frac{r^6}{R_0^8}\\delta_{R_0}  \\\\& \\quad + (d_4+\\frac{4}{5} d_6 +\\frac{3}{25} d_7)\\, 20 \\frac{r^2}{R_0^4}\\delta_{R_0}\\,.\n",
    "\\end{align}\n",
    "\n",
    "Note that the labels specifying the isospin channels are omitted for brevity. In channels with $T=1$, which we can identify by the requirement that $L + S + T$ has to be odd (Pauli principle), we have 3 isospin projection channels. In channels with $T=0$, we have only 1 isospin projection channel."
   ]
  },
  {
   "cell_type": "markdown",
   "metadata": {},
   "source": [
    "Now, let's refactor these equations a bit for our purpose:\n",
    "\n",
    "\\begin{align}\n",
    "\\bra{^1S_0}V_{\\text{cont}}\\ket{^1S_0} &= d_{22}\\delta_{R_0}+ \\underbrace{(d_3-d_7)}_{=D_{1S_0}} \\left[ 20 \\frac{r^2}{R_0^4}\\delta_{R_0}  - \\, 16 \\frac{r^6}{R_0^8}\\delta_{R_0} \\right] \\,,\\\\\n",
    "\\bra{^3S_1}V_{\\text{cont}}\\ket{^3S_1} &= d_{11}\\delta_{R_0} + \\underbrace{(d_1+ \\frac{1}{3} d_2)}_{=D_{3S_1}} \\left[ 20 \\frac{r^2}{R_0^4}\\delta_{R_0} -  16 \\frac{r^6}{R_0^8}\\delta_{R_0} \\right] \\,,\\\\\n",
    "\\bra{^3S_1}V_{\\text{cont}}\\ket{^3D_1} &= \\bra{^3D_1}V_{\\text{cont}}\\ket{^3S_1} \\\\&= d_2 \\left[ \\frac{\\sqrt{8}}{3}\\, 8\\frac{r^2}{R_0^4}\\delta_{R_0}- \\frac{\\sqrt{8}}{3}\\, 16\\frac{r^6}{R_0^8}\\delta_{R_0} \\right] \\,,  \\\\\n",
    "\\bra{^3D_1}V_{\\text{cont}}\\ket{^3D_1}&= d_{11}\\delta_{R_0}-\\underbrace{(d_1- \\frac{1}{3} d_2)}_{=D_{^3D_1}}  \\, 16 \\frac{r^6}{R_0^8}\\delta_{R_0} + \\underbrace{(d_1+ \\frac{3}{5} d_6 +\\frac{1}{15}d_2) }_{=D_{^3D_1}'} \\, 20 \\frac{r^2}{R_0^4}\\delta_{R_0}\\,,\\\\\n",
    "\\bra{^1P_1}V_{\\text{cont}}\\ket{^1P_1} &= \\,d_{22}\\delta_{R_0}+ \\underbrace{(d_5- d_2)}_{=D_{^1P_1}}\\left[ 20 \\frac{r^2}{R_0^4}\\delta_{R_0} - 16 \\frac{r^6}{R_0^8}\\delta_{R_0} \\right]\\,,\\\\\n",
    "\\bra{^3P_0}V_{\\text{cont}}\\ket{^3P_0} &= d_{11}\\delta_{R_0}- \\underbrace{(d_4-d_7)}_{=D_{^3P_0}}  \\, 16 \\frac{r^6}{R_0^8}\\delta_{R_0}  + \\underbrace{(d_4+\\frac{2}{5} d_6 -\\frac{1}{5}d_7)}_{=D_{^3P_0}'}\\, 20 \\frac{r^2}{R_0^4}\\delta_{R_0}\\,,\\\\\n",
    "\\bra{^3P_1}V_{\\text{cont}}\\ket{^3P_1}&= d_{11}\\delta_{R_0}- \\underbrace{(d_4+d_7)}_{=D_{^3P_1}}  \\, 16 \\frac{r^6}{R_0^8}\\delta_{R_0}   + \\underbrace{(d_4+ \\frac{1}{5} d_6 + \\frac{3}{5} d_7)}_{=D_{^3P_1}'} \\, 20 \\frac{r^2}{R_0^4}\\delta_{R_0}\\,, \\\\\n",
    "\\bra{^3P_2}V_{\\text{cont}}\\ket{^3P_2}&= d_{11}\\delta_{R_0}- \\underbrace{(d_4+ \\frac{1}{5} d_7)}_{=D_{^3P_2}} \\, 16 \\frac{r^6}{R_0^8}\\delta_{R_0}  + \\underbrace{(d_4- \\frac{1}{5} d_6 +\\frac{7}{25} d_7)}_{=D_{^3P_2}'} \\, 20 \\frac{r^2}{R_0^4}\\delta_{R_0}\\,,\\\\\n",
    "\\bra{^3P_2}V_{\\text{cont}}\\ket{^3F_2}&= \\bra{^3F_2}V_{\\text{cont}}\\ket{^3P_2} \\\\&= \\, d_7 \\left[ \\sqrt{6}\\frac{16}{5}\\frac{r^2}{R_0^4}\\delta_{R_0} -  \\sqrt{6}\\frac{32}{5} \\frac{r^6}{R_0^8}\\delta_{R_0} \\right] \\,,\\\\\n",
    "\\bra{^3F_2}V_{\\text{cont}}\\ket{^3F_2}&= d_{11}\\delta_{R_0}- \\underbrace{(d_4- \\frac{1}{5} d_7)}_{=D_{^3F_2}}  \\, 16 \\frac{r^6}{R_0^8}\\delta_{R_0} + \\underbrace{(d_4+\\frac{4}{5} d_6 +\\frac{3}{25} d_7)}_{=D_{^3F_2}'} \\, 20 \\frac{r^2}{R_0^4}\\delta_{R_0}\\,.\n",
    "\\end{align}"
   ]
  },
  {
   "cell_type": "markdown",
   "metadata": {},
   "source": [
    "Our goal is to train different emulators in different partial wave channels. To this end, we train\n",
    "\n",
    "Now, we define the transform that renders removes all linear combinations in these expressions:\n",
    "\n",
    "$$\n",
    "\\begin{pmatrix}\n",
    "d_{11}^{(np)} \\\\\n",
    "d_{22}^{(np)}\\\\\n",
    "d_{22}^{(nn)}\\\\\n",
    "d_{22}^{(pp)}\\\\\n",
    "D_{^1S_0}\\\\\n",
    "D_{^3S_1}\\\\\n",
    "d_{2} \\\\\n",
    "D_{^3D_1}\\\\\n",
    "D_{^3D_1}'\\\\\n",
    "D_{^1P_1}\\\\\n",
    "D_{^3P_0}\\\\\n",
    "D_{^3P_0}'\\\\\n",
    "D_{^3P_1}\\\\\n",
    "D_{^3P_1}'\\\\\n",
    "D_{^3P_2}\\\\\n",
    "D_{^3P_2}'\\\\\n",
    "d_{7} \\\\\n",
    "D_{^3F_2}\\\\\n",
    "D_{^3F_2}'\n",
    "\\end{pmatrix}\n",
    "= \n",
    "\\begin{bmatrix}\n",
    "1 & 0 & 0 & 0 & 0 & 0 & 0 & 0 & 0 & 0 & 0 \\\\\n",
    "0 & 1 & 0 & 0 & 0 & 0 & 0 & 0 & 0 & 0 & 0 \\\\\n",
    "0 & 0 & 1 & 0 & 0 & 0 & 0 & 0 & 0 & 0 & 0 \\\\\n",
    "0 & 0 & 0 & 1 & 0 & 0 & 0 & 0 & 0 & 0 & 0 \\\\\n",
    "0 & 0 & 0 & 0 & 0 & 0 & 1 & 0 & 0 & 0 & -1 \\\\\n",
    "0 & 0 & 0 & 0 & 1 & \\frac{1}{3} & 0 & 0 & 0 & 0 & 0 \\\\\n",
    "0 & 0 & 0 & 0 & 0 & 1 & 0 & 0 & 0 & 0 & 0 \\\\\n",
    "0 & 0 & 0 & 0 & -1 & \\frac{1}{3} & 0 & 0 & 0 & 0 & 0 \\\\\n",
    "0 & 0 & 0 & 0 & 1 & \\frac{1}{15} & 0 & 0 & 0 & \\frac{3}{5} & 0 \\\\\n",
    "0 & 0 & 0 & 0 & 0 & -1 & 0 & 0 & 1 & 0 & 0 \\\\\n",
    "0 & 0 & 0 & 0 & 0 & 0 & 0 & -1 & 0 & 0 & 1 \\\\\n",
    "0 & 0 & 0 & 0 & 0 & 0 & 0 & 1 & 0 & \\frac{2}{5} & -\\frac{1}{5} \\\\\n",
    "0 & 0 & 0 & 0 & 0 & 0 & 0 & -1 & 0 & 0 & -1 \\\\\n",
    "0 & 0 & 0 & 0 & 0 & 0 & 0 & 1 & 0 & \\frac{1}{5} & \\frac{3}{5} \\\\\n",
    "0 & 0 & 0 & 0 & 0 & 0 & 0 & -1 & 0 & 0 & -\\frac{1}{5} \\\\\n",
    "0 & 0 & 0 & 0 & 0 & 0 & 0 & 1 & 0 & -\\frac{1}{5} & \\frac{7}{25} \\\\\n",
    "0 & 0 & 0 & 0 & 0 & 0 & 0 & 0 & 0 & 0 & 1 \\\\\n",
    "0 & 0 & 0 & 0 & 0 & 0 & 0 & -1 & 0 & 0 & \\frac{1}{5} \\\\\n",
    "0 & 0 & 0 & 0 & 0 & 0 & 0 & 1 & 0 & \\frac{4}{5} & \\frac{3}{25} \n",
    "\\end{bmatrix}\n",
    "\\begin{pmatrix}\n",
    "d_{11}^{(np)} \\\\\n",
    "d_{22}^{(np)}\\\\\n",
    "d_{22}^{(nn)}\\\\\n",
    "d_{22}^{(pp)}\\\\\n",
    "d_{1} \\\\\n",
    "d_{2} \\\\\n",
    "d_{3} \\\\\n",
    "d_{4} \\\\\n",
    "d_{5} \\\\\n",
    "d_{6} \\\\\n",
    "d_{7} \n",
    "\\end{pmatrix}\n",
    "$$\n",
    "\n",
    "**This system is overdetermined (i.e., rectangular) since we are using local chiral interactions.** That is ok since we will sample in the spectroscopic ($d$'s) or Lagrangrian ($C$'s) and then obtain the set of LECs above, in whose parameter space the emulators in each partial wave are trained on. In other words, we don't need to invert this linear system. \n",
    "\n",
    "Here's the `numpy` version of this matrix:"
   ]
  },
  {
   "cell_type": "code",
   "execution_count": null,
   "metadata": {},
   "outputs": [
    {
     "data": {
      "text/plain": [
       "(19, 11)"
      ]
     },
     "metadata": {},
     "output_type": "display_data"
    }
   ],
   "source": [
    "import numpy as np\n",
    "lin_comb = np.array(\n",
    "    [[1 , 0 , 0 , 0 , 0 , 0 , 0 , 0 , 0 , 0 , 0 ],\n",
    "     [0 , 1 , 0 , 0 , 0 , 0 , 0 , 0 , 0 , 0 , 0 ],\n",
    "     [0 , 0 , 1 , 0 , 0 , 0 , 0 , 0 , 0 , 0 , 0 ],\n",
    "     [0 , 0 , 0 , 1 , 0 , 0 , 0 , 0 , 0 , 0 , 0 ],\n",
    "     [0 , 0 , 0 , 0 , 0 , 0 , 1 , 0 , 0 , 0 , -1 ],\n",
    "     [0 , 0 , 0 , 0 , 1 , 1/3 , 0 , 0 , 0 , 0 , 0 ],\n",
    "     [0 , 0 , 0 , 0 , 0 , 1 , 0 , 0 , 0 , 0 , 0 ],\n",
    "     [0 , 0 , 0 , 0 , -1 , 1/3 , 0 , 0 , 0 , 0 , 0 ],\n",
    "     [0 , 0 , 0 , 0 , 1 , 1/15 , 0 , 0 , 0 , 3/5 , 0 ],\n",
    "     [0 , 0 , 0 , 0 , 0 , -1 , 0 , 0 , 1 , 0 , 0 ],\n",
    "     [0 , 0 , 0 , 0 , 0 , 0 , 0 , -1 , 0 , 0 , 1 ],\n",
    "     [0 , 0 , 0 , 0 , 0 , 0 , 0 , 1 , 0 , 2/5 , -1/5 ],\n",
    "     [0 , 0 , 0 , 0 , 0 , 0 , 0 , -1 , 0 , 0 , -1 ],\n",
    "     [0 , 0 , 0 , 0 , 0 , 0 , 0 , 1 , 0 , 1/5 , 3/5 ],\n",
    "     [0 , 0 , 0 , 0 , 0 , 0 , 0 , -1 , 0 , 0 , -1/5 ],\n",
    "     [0 , 0 , 0 , 0 , 0 , 0 , 0 , 1 , 0 , -1/5 , 7/25 ],\n",
    "     [0 , 0 , 0 , 0 , 0 , 0 , 0 , 0 , 0 , 0 , 1 ],\n",
    "     [0 , 0 , 0 , 0 , 0 , 0 , 0 , -1 , 0 , 0 , 1/5 ],\n",
    "     [0 , 0 , 0 , 0 , 0 , 0 , 0 , 1 , 0 , 4/5 , 3/25]\n",
    "])\n",
    "lin_comb.shape"
   ]
  },
  {
   "cell_type": "markdown",
   "metadata": {},
   "source": [
    "The combined transformation matrix from the ($C_S,C_T,\\ldots)$ notation to the linear combinations in the expressions is then given by: `lin_comb @ trafo`, which has the shape"
   ]
  },
  {
   "cell_type": "code",
   "execution_count": null,
   "metadata": {},
   "outputs": [
    {
     "data": {
      "text/plain": [
       "(19, 11)"
      ]
     },
     "metadata": {},
     "output_type": "display_data"
    }
   ],
   "source": [
    "(lin_comb @ trafo).shape"
   ]
  },
  {
   "cell_type": "markdown",
   "metadata": {},
   "source": [
    "As mentioned, the linear system above is overdetermined (by construction). We can select a subset of the rows to render the system square and invertible. We choose here the subset of rows that maximizes the absolute value of the determinant of the remaining (square) system. We call this subset the non-redundant rows (or constraints) and the remaining the redundant rows:"
   ]
  },
  {
   "cell_type": "code",
   "execution_count": null,
   "metadata": {},
   "outputs": [
    {
     "name": "stdout",
     "output_type": "stream",
     "text": [
      "indices of the nonredundant rows (choice):  [0, 1, 2, 3, 4, 5, 6, 9, 10, 12, 18]\n",
      "indices of the corresponding redundant rows: [7, 8, 11, 13, 14, 15, 16, 17]\n",
      "determinant of neduced matrix: 1.6\n"
     ]
    }
   ],
   "source": [
    "from itertools import combinations\n",
    "all_rows = range(19)\n",
    "idxs = list(combinations(all_rows, r=11))\n",
    "res = [np.linalg.det(lin_comb[row_idxs,:]) for row_idxs in idxs]\n",
    "nonredundant_rows = list(idxs[np.argmax(np.abs(res))])  # could also use argmax()\n",
    "redundant_rows = list(set(all_rows) - set(nonredundant_rows))\n",
    "print(\"indices of the nonredundant rows (choice): \", nonredundant_rows)\n",
    "print(\"indices of the corresponding redundant rows:\", redundant_rows)\n",
    "print(\"determinant of neduced matrix:\", np.linalg.det(lin_comb[nonredundant_rows,:]))\n"
   ]
  },
  {
   "cell_type": "markdown",
   "metadata": {},
   "source": [
    "In addition, we also deal with (up to 3) different constant terms in the potential, $V_\\mathrm{const}^{(m_T)}$, corresponding to the isospin channels. However, in a given channel, such as $^1S_0^{(\\mathrm{np})}$, only one $V_\\mathrm{const}^{(m_T)}$ contributes."
   ]
  },
  {
   "cell_type": "code",
   "execution_count": 1,
   "metadata": {},
   "outputs": [],
   "source": [
    "%load_ext autoreload\n",
    "%autoreload 2\n",
    "import sys\n",
    "sys.path.append(\"./modules\")\n",
    "\n",
    "import numpy as np\n",
    "import matplotlib.pyplot as plt\n",
    "from Potential import Potential, chiralms\n",
    "from Channel import Channel\n",
    "\n",
    "potentialArgs = {\"label\": \"chiral\", \"kwargs\": {\"potId\": 233}}\n",
    "l = 0\n",
    "channel = Channel(S=1, L=2, LL=2, J=1, channel=0)\n",
    "potential = Potential(channel, **potentialArgs)"
   ]
  },
  {
   "cell_type": "code",
   "execution_count": 14,
   "metadata": {},
   "outputs": [
    {
     "data": {
      "image/png": "[encoded data removed]",
      "text/plain": [
       "<Figure size 640x480 with 2 Axes>"
      ]
     },
     "metadata": {},
     "output_type": "display_data"
    }
   ],
   "source": [
    "num_pts = 400\n",
    "k_arr = np.linspace(0., 20., num_pts)\n",
    "Vp = np.zeros((num_pts, num_pts))\n",
    "\n",
    "import scipy.linalg as spla\n",
    "for j, kk in enumerate(k_arr):\n",
    "    for i, k in enumerate(k_arr):\n",
    "        Vp[i, j] = chiralms(k, kk, channel, use_default_lec_values=True, **potentialArgs[\"kwargs\"])\n",
    "fig, ax = plt.subplots(1,1)\n",
    "out = ax.pcolormesh(k_arr, k_arr, Vp) # , shading='gouraud')\n",
    "# ax.imshow(Vp)\n",
    "ax.set_xlabel(\"$p$\")\n",
    "ax.set_ylabel(\"$p'$\")\n",
    "ax.set_xlim(0,10)\n",
    "ax.set_ylim(0,10)\n",
    "_ = fig.colorbar(out)\n",
    "# fig.savefig(\"minnesota_parameter_space_partition_sval.png\", dpi=200)"
   ]
  },
  {
   "cell_type": "code",
   "execution_count": 17,
   "metadata": {},
   "outputs": [
    {
     "data": {
      "text/plain": [
       "np.float64(0.0)"
      ]
     },
     "execution_count": 17,
     "metadata": {},
     "output_type": "execute_result"
    }
   ],
   "source": [
    "np.max(np.abs((Vp - Vp.T)))"
   ]
  },
  {
   "cell_type": "code",
   "execution_count": null,
   "metadata": {},
   "outputs": [],
   "source": []
  }
 ],
 "metadata": {
  "kernelspec": {
   "display_name": "env",
   "language": "python",
   "name": "python3"
  },
  "language_info": {
   "codemirror_mode": {
    "name": "ipython",
    "version": 3
   },
   "file_extension": ".py",
   "mimetype": "text/x-python",
   "name": "python",
   "nbconvert_exporter": "python",
   "pygments_lexer": "ipython3",
   "version": "3.13.0"
  }
 },
 "nbformat": 4,
 "nbformat_minor": 2
}
