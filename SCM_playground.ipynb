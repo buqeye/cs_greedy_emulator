{
 "cells": [
  {
   "cell_type": "markdown",
   "metadata": {},
   "source": [
    "# Playground for the Successive Constraint Method\n",
    "\n",
    "In this project we construct a reduced basis for solving a linear system $A(\\theta) \\vec{x}(\\theta) = \\vec{s}(\\theta)$ with a greedy algorithm to improve the snapshot basis. To calibrate the error estimator, which is based on the norm of the residual vector $ \\vec{R}(\\theta) = A(\\theta) X \\vec{c}(\\theta) - \\vec{s}(\\theta)$, where $X$ is the snapshot matrix and $\\vec{c}$ the coefficient vector corresponding to the reduced basis, we need an estimate for the minimum singular values of $A(\\theta)$ in the parameter space $\\vec{\\theta}$.\n",
    "\n",
    "Our goal here is to estimate the minimum singular values of a matrix with affine decomposition, which is needed to determine an upper bound for the error estimator in our greedy algorithm. \n",
    "\n",
    "This notebook provides a simple yet somewhat realistic scenario for developing and testing the Successive Constraint Method. "
   ]
  },
  {
   "cell_type": "code",
   "execution_count": null,
   "metadata": {},
   "outputs": [],
   "source": [
    "import numpy as np\n",
    "from scipy.special import spherical_jn\n",
    "hbarc = 197.3269718"
   ]
  },
  {
   "cell_type": "markdown",
   "metadata": {},
   "source": [
    "We are interested in special second-order ordinary differential equations of the following form:\n",
    "$$\n",
    " \\frac{d^2 y}{dx^2} = - g(x) y(x) + s(x).\n",
    "$$\n",
    "\n",
    "$g(x)$ and $s(x)$ have affine decompositions:\n",
    "\n",
    "$$\n",
    "g(x) = g_0(x) + \\sum_{i=1}^{n_\\theta} \\theta_i \\, g_i(x)\n",
    "$$\n",
    "\n",
    "and likewise for $s(x)$. We concatenate all $n_\\theta$ parameters of the system into the vector $\\theta$. Hence, $g(x)$ and $s(x)$ have a $\\theta$-independent term (with index 0) and a $\\theta$-dependent term."
   ]
  },
  {
   "cell_type": "code",
   "execution_count": null,
   "metadata": {},
   "outputs": [],
   "source": [
    "def potential_eval_affine(r):\n",
    "    \"\"\"\n",
    "    auxiliary function\n",
    "\n",
    "    the output is an array, where the first column corresponds to the theta-independent contributions, and the following columns to the parameters in the parameter vector theta\n",
    "    \"\"\"\n",
    "    Vcomp = [np.zeros_like(r)]\n",
    "    r2 = r ** 2\n",
    "    K_arr = [1.487, 0.465]\n",
    "    for K in K_arr:\n",
    "        Vcomp.append(np.exp(-K * r2))\n",
    "    return np.array(Vcomp).T  / hbarc\n",
    "\n",
    "def g_s_affine(r, params=None):\n",
    "    \"\"\"\n",
    "    evalutates the affine decompositions of g(x) and s(x) simulaneously \n",
    "    \n",
    "    the output is the tuple (g, s), where both g and s are arrays, where the first column corresponds \n",
    "    to the theta-independent contributions, and the following columns to the parameters in the parameter vector theta\n",
    "    \"\"\"\n",
    "    # constants\n",
    "    l = 0\n",
    "    MeV = 1./ hbarc\n",
    "    mu = 938.9182 / 2. * MeV\n",
    "    E = 50. * MeV\n",
    "    p = np.sqrt(2.*mu*E)\n",
    "\n",
    "    # evaluate potential\n",
    "    V_arr = potential_eval_affine(r)\n",
    "    g_arr = - (2. * mu) * V_arr\n",
    "    centrifugal = -l * (l + 1) / r ** 2. if l > 0 else 0.\n",
    "    g_arr[:, 0] += centrifugal + (2. * mu) * E\n",
    "    s_arr = np.einsum(\"i,ij->ij\", spherical_jn(l, p*r) * r * (2. * mu), V_arr)\n",
    "    return g_arr, s_arr"
   ]
  },
  {
   "cell_type": "markdown",
   "metadata": {},
   "source": [
    "To solve the differential equation above, we use Matrix Numerov's method, which leads to the linear system $A(\\theta) \\vec{x}(\\theta) = \\vec{s}(\\theta)$. Both, the matrix $A$ and right-hand side vector $\\vec{s}$ have affine decompositions. \n",
    "\n",
    "In this notebook, we are only interested in the matrix $A$:\n",
    "\n",
    "$$\n",
    "A(\\theta) = A_0 + \\sum_{i=1}^{n_\\theta}  A_i(x) \\, \\theta_i \\equiv A_0 + A_\\theta \\cdot \\vec{\\theta}\n",
    "$$\n",
    "\n",
    "Note that $A_\\theta$ is constructed to be a rank-3 tensor. We can obtain the matrices $A_n$ for all $n \\geq 0$ using the solver class `AffineNumerovSolver`, which is located in the `modules` folder in this repository:"
   ]
  },
  {
   "cell_type": "code",
   "execution_count": null,
   "metadata": {},
   "outputs": [],
   "source": [
    "from modules.Numerov import AffineNumerovSolver\n",
    "grid = np.linspace(0, 10, 100)  # grid on which to solve the differential equation\n",
    "solver = AffineNumerovSolver(xn=grid, g=None, g_s=g_s_affine, y0=0., yp0=0., params=None )\n",
    "A0, A_theta = solver.A_const_theta_dense"
   ]
  },
  {
   "cell_type": "markdown",
   "metadata": {},
   "source": [
    "Here, `A0` corresponds to the parameter-independent term $A_0$ and `A_theta` corresponds to the parameter-dependent term $A_\\theta$, which has $n_\\theta$ components along its third dimension. Hence, we can obtain the full matrix at a given parameter vector $\\vec{\\theta}^*$ using a simple dot product as follows:"
   ]
  },
  {
   "cell_type": "code",
   "execution_count": null,
   "metadata": {},
   "outputs": [],
   "source": [
    "theta_star = np.array([1., 200., -91.85])   # given parameter vector\n",
    "A = A0 + A_theta @ theta_star\n",
    "A"
   ]
  },
  {
   "cell_type": "markdown",
   "metadata": {},
   "source": [
    "We can perform the (costly) SVD of `A` at any given parameter vector in the snapshot basis. The goal is to estimate the minimal singular values at any point in the parameter space given that snapshot basis and its singular values (and potentially, singular vectors). "
   ]
  },
  {
   "cell_type": "code",
   "execution_count": null,
   "metadata": {},
   "outputs": [],
   "source": [
    "import matplotlib.pyplot as plt\n",
    "import scipy.linalg as spla"
   ]
  },
  {
   "cell_type": "code",
   "execution_count": null,
   "metadata": {},
   "outputs": [],
   "source": [
    "num_theta1 = 100\n",
    "num_theta2 = 100\n",
    "theta1 = np.linspace(0, 400, num_theta1)\n",
    "theta2 = np.linspace(-400, 0, num_theta2)\n",
    "min_sv = np.zeros((num_theta2, num_theta1))\n",
    "cond = np.zeros((num_theta2, num_theta1))\n",
    "for j, t1 in enumerate(theta1):\n",
    "    for i, t2 in enumerate(theta2):\n",
    "        theta_vec = np.array([1, t1, t2])\n",
    "        A_theta_vec = A0 + A_theta @ theta_vec\n",
    "        s_theta_vec = spla.svdvals(A_theta_vec)\n",
    "        min_sv[i, j] = s_theta_vec[-1]\n",
    "        cond[i, j] = s_theta_vec[0] / s_theta_vec[-1]"
   ]
  },
  {
   "cell_type": "code",
   "execution_count": null,
   "metadata": {},
   "outputs": [],
   "source": [
    "fig, ax = plt.subplots()\n",
    "out = ax.pcolormesh(theta1, theta2, min_sv, shading='gouraud')\n",
    "ax.set_xlabel(r'$\\theta_1$')\n",
    "ax.set_ylabel(r'$\\theta_2$')\n",
    "ax.set_title(r'Smallest singular value of $A(\\theta)$')\n",
    "_ = fig.colorbar(out)"
   ]
  },
  {
   "cell_type": "code",
   "execution_count": null,
   "metadata": {},
   "outputs": [],
   "source": [
    "fig, ax = plt.subplots()\n",
    "out = ax.pcolormesh(theta1, theta2, min_sv**2, shading='gouraud')\n",
    "ax.set_xlabel(r'$\\theta_1$')\n",
    "ax.set_ylabel(r'$\\theta_2$')\n",
    "ax.set_title(r'Smallest eigenvalue of $A(\\theta)^T A(\\theta)$')\n",
    "_ = fig.colorbar(out)"
   ]
  },
  {
   "cell_type": "code",
   "execution_count": null,
   "metadata": {},
   "outputs": [],
   "source": [
    "fig, ax = plt.subplots()\n",
    "out = ax.pcolormesh(theta1, theta2, cond, shading='gouraud')\n",
    "ax.set_xlabel(r'$\\theta_1$')\n",
    "ax.set_ylabel(r'$\\theta_2$')\n",
    "ax.set_title(r'Condition number of $A(\\theta)$')\n",
    "_ = fig.colorbar(out)"
   ]
  },
  {
   "cell_type": "code",
   "execution_count": null,
   "metadata": {},
   "outputs": [],
   "source": [
    "np.min(min_sv)"
   ]
  },
  {
   "cell_type": "code",
   "execution_count": null,
   "metadata": {},
   "outputs": [],
   "source": [
    "np.max(min_sv)"
   ]
  },
  {
   "cell_type": "code",
   "execution_count": null,
   "metadata": {},
   "outputs": [],
   "source": [
    "A_0 = A0 + A_theta[:, :, 0]\n",
    "A_1 = A_theta[:, :, 1]\n",
    "A_2 = A_theta[:, :, 2]"
   ]
  },
  {
   "cell_type": "markdown",
   "metadata": {},
   "source": [
    "$$\n",
    "\\begin{align*}\n",
    "(A_0 + \\theta_1 A_1 + \\theta_2 A_2)^T (A_0 + \\theta_1 A_1 + \\theta_2 A_2)\n",
    "= A_0^T A_0 +\n",
    "\\theta_1^2 A_1^T A_1 +\n",
    "\\theta_2^2 A_2^T A_2 +\n",
    "\\theta_1 (A_0^T A_1 + A_1^T A_0) +\n",
    "\\theta_2 (A_0^T A_2 + A_2^T A_0) +\n",
    "\\theta_1 \\theta_2 (A_1^T A_2 + A_2^T A_1)\n",
    "\\end{align*}\n",
    "$$"
   ]
  },
  {
   "cell_type": "code",
   "execution_count": null,
   "metadata": {},
   "outputs": [],
   "source": [
    "np.min(spla.eigvalsh(A.T @ A))"
   ]
  },
  {
   "cell_type": "code",
   "execution_count": null,
   "metadata": {},
   "outputs": [],
   "source": [
    "np.min(spla.eigvalsh(A_0.T @ A_0))"
   ]
  },
  {
   "cell_type": "code",
   "execution_count": null,
   "metadata": {},
   "outputs": [],
   "source": [
    "np.min(spla.eigvalsh(A_1.T @ A_1))"
   ]
  },
  {
   "cell_type": "code",
   "execution_count": null,
   "metadata": {},
   "outputs": [],
   "source": [
    "np.min(spla.eigvalsh(A_2.T @ A_2))"
   ]
  },
  {
   "cell_type": "code",
   "execution_count": null,
   "metadata": {},
   "outputs": [],
   "source": [
    "np.min(spla.eigvalsh(A_0.T @ A_1 + A_1.T @ A_0))"
   ]
  },
  {
   "cell_type": "code",
   "execution_count": null,
   "metadata": {},
   "outputs": [],
   "source": [
    "np.min(spla.eigvalsh(A_0.T @ A_2 + A_2.T @ A_0))"
   ]
  },
  {
   "cell_type": "code",
   "execution_count": null,
   "metadata": {},
   "outputs": [],
   "source": [
    "np.min(spla.eigvalsh(A_1.T @ A_2 + A_2.T @ A_1))"
   ]
  },
  {
   "cell_type": "code",
   "execution_count": null,
   "metadata": {},
   "outputs": [],
   "source": [
    "f0 = lambda theta: 1\n",
    "f1 = lambda theta: theta[0]**2\n",
    "f2 = lambda theta: theta[1]**2\n",
    "f3 = lambda theta: theta[0]\n",
    "f4 = lambda theta: theta[1]\n",
    "f5 = lambda theta: theta[0] * theta[1]\n",
    "fs = (f0, f1, f2, f3, f4, f5)"
   ]
  },
  {
   "cell_type": "code",
   "execution_count": null,
   "metadata": {},
   "outputs": [],
   "source": [
    "M0 = A_0.T @ A_0\n",
    "M1 = A_1.T @ A_1\n",
    "M2 = A_2.T @ A_2\n",
    "M3 = A_0.T @ A_1 + A_1.T @ A_0\n",
    "M4 = A_0.T @ A_2 + A_2.T @ A_0\n",
    "M5 = A_1.T @ A_2 + A_2.T @ A_1\n",
    "Ms = (M0, M1, M2, M3, M4, M5)"
   ]
  },
  {
   "cell_type": "code",
   "execution_count": null,
   "metadata": {},
   "outputs": [],
   "source": [
    "def box_constraints(matrices):\n",
    "    bc = []\n",
    "    for M in matrices:\n",
    "        e = spla.eigvalsh(M)\n",
    "        bc.append((e[0], e[-1]))\n",
    "    return tuple(bc)"
   ]
  },
  {
   "cell_type": "code",
   "execution_count": null,
   "metadata": {},
   "outputs": [],
   "source": [
    "bc = box_constraints(Ms)\n",
    "bc"
   ]
  },
  {
   "cell_type": "code",
   "execution_count": null,
   "metadata": {},
   "outputs": [],
   "source": [
    "lb0 = np.zeros((num_theta2, num_theta1))\n",
    "for j, t1 in enumerate(theta1):\n",
    "    for i, t2 in enumerate(theta2):\n",
    "        t = (t1, t2)\n",
    "        lb0[i, j] = np.sum([min(f(t) * m, f(t) * M) for f, (m, M) in zip(fs, bc)]) "
   ]
  },
  {
   "cell_type": "code",
   "execution_count": null,
   "metadata": {},
   "outputs": [],
   "source": [
    "fig, ax = plt.subplots()\n",
    "out = ax.pcolormesh(theta1, theta2, lb0, shading='gouraud')\n",
    "ax.set_xlabel(r'$\\theta_1$')\n",
    "ax.set_ylabel(r'$\\theta_2$')\n",
    "ax.set_title(r'Lower bound for $\\sigma_{\\min}(A(\\theta)^T A(\\theta))$')\n",
    "_ = fig.colorbar(out)"
   ]
  },
  {
   "cell_type": "code",
   "execution_count": null,
   "metadata": {},
   "outputs": [],
   "source": [
    "from scipy.optimize import linprog"
   ]
  },
  {
   "cell_type": "code",
   "execution_count": null,
   "metadata": {},
   "outputs": [],
   "source": [
    "class MinEigBounds():\n",
    "    def __init__(self, fs, Ms):\n",
    "        self.fs = fs\n",
    "        self.Ms = Ms\n",
    "        self.thetas = []\n",
    "        self.min_ev = []\n",
    "        self.ys = []\n",
    "        self.A_ub = None\n",
    "        self.bounds = box_constraints(Ms)\n",
    "\n",
    "    def append(self, theta):\n",
    "        self.thetas.append(theta)\n",
    "        mat = sum(f(theta) * M for f, M in zip(self.fs, self.Ms))\n",
    "        e, X = spla.eigh(mat)\n",
    "        self.min_ev.append(e[0])\n",
    "        x = X[:, 0]\n",
    "        self.ys.append(tuple(M @ x @ x for M in self.Ms))\n",
    "        A_row = np.array([[-f(theta) for f in self.fs]])\n",
    "        if self.A_ub is None:\n",
    "            self.A_ub = A_row\n",
    "        else:\n",
    "            self.A_ub = np.vstack((self.A_ub, A_row))\n",
    "\n",
    "    def lb(self, theta):\n",
    "        c = np.array([f(theta) for f in self.fs])\n",
    "        b_ub = -np.array(self.min_ev)\n",
    "        res = linprog(c, A_ub=self.A_ub, b_ub=b_ub, bounds=self.bounds)\n",
    "        return res.fun\n",
    "\n",
    "    def ub(self, theta):\n",
    "        c = np.array([f(theta) for f in self.fs])\n",
    "        return min(c @ y for y in self.ys)"
   ]
  },
  {
   "cell_type": "code",
   "execution_count": null,
   "metadata": {},
   "outputs": [],
   "source": [
    "b1 = MinEigBounds(fs, Ms)\n",
    "b1.append((200, -200))\n",
    "lb1 = np.zeros((num_theta2, num_theta1))\n",
    "ub1 = np.zeros((num_theta2, num_theta1))\n",
    "for j, t1 in enumerate(theta1):\n",
    "    for i, t2 in enumerate(theta2):\n",
    "        lb1[i, j] = b1.lb((t1, t2))\n",
    "        ub1[i, j] = b1.ub((t1, t2))"
   ]
  },
  {
   "cell_type": "code",
   "execution_count": null,
   "metadata": {},
   "outputs": [],
   "source": [
    "fig, axs = plt.subplots(1, 2, figsize=(12, 4))\n",
    "\n",
    "ax = axs[0]\n",
    "out = ax.pcolormesh(theta1, theta2, lb1, shading='gouraud')\n",
    "ax.set_aspect('equal')\n",
    "ax.set_xlabel(r'$\\theta_1$')\n",
    "ax.set_ylabel(r'$\\theta_2$')\n",
    "ax.set_title(r'Lower bound for $\\sigma_{\\min}(A(\\theta)^T A(\\theta))$')\n",
    "_ = fig.colorbar(out)\n",
    "\n",
    "ax = axs[1]\n",
    "out = ax.pcolormesh(theta1, theta2, ub1, shading='gouraud')\n",
    "ax.set_aspect('equal')\n",
    "ax.set_xlabel(r'$\\theta_1$')\n",
    "ax.set_ylabel(r'$\\theta_2$')\n",
    "ax.set_title(r'Upper bound for $\\sigma_{\\min}(A(\\theta)^T A(\\theta))$')\n",
    "_ = fig.colorbar(out)"
   ]
  },
  {
   "cell_type": "code",
   "execution_count": null,
   "metadata": {},
   "outputs": [],
   "source": [
    "b2 = MinEigBounds(fs, Ms)\n",
    "thetas2 = [(t1, t2) for t1 in np.linspace(0, 400, 4) for t2 in np.linspace(-400, 0, 4)]\n",
    "for theta in thetas2:\n",
    "    b2.append(theta)\n",
    "lb2 = np.zeros((num_theta2, num_theta1))\n",
    "ub2 = np.zeros((num_theta2, num_theta1))\n",
    "for j, t1 in enumerate(theta1):\n",
    "    for i, t2 in enumerate(theta2):\n",
    "        lb2[i, j] = b2.lb((t1, t2))\n",
    "        ub2[i, j] = b2.ub((t1, t2))"
   ]
  },
  {
   "cell_type": "code",
   "execution_count": null,
   "metadata": {},
   "outputs": [],
   "source": [
    "fig, axs = plt.subplots(1, 2, figsize=(12, 4))\n",
    "\n",
    "ax = axs[0]\n",
    "out = ax.pcolormesh(theta1, theta2, lb2, shading='gouraud')\n",
    "ax.set_aspect('equal')\n",
    "ax.set_xlabel(r'$\\theta_1$')\n",
    "ax.set_ylabel(r'$\\theta_2$')\n",
    "ax.set_title(r'Lower bound for $\\sigma_{\\min}(A(\\theta)^T A(\\theta))$')\n",
    "_ = fig.colorbar(out)\n",
    "\n",
    "ax = axs[1]\n",
    "out = ax.pcolormesh(theta1, theta2, ub2, shading='gouraud')\n",
    "ax.set_aspect('equal')\n",
    "ax.set_xlabel(r'$\\theta_1$')\n",
    "ax.set_ylabel(r'$\\theta_2$')\n",
    "ax.set_title(r'Upper bound for $\\sigma_{\\min}(A(\\theta)^T A(\\theta))$')\n",
    "_ = fig.colorbar(out)"
   ]
  },
  {
   "cell_type": "code",
   "execution_count": null,
   "metadata": {},
   "outputs": [],
   "source": [
    "from time import perf_counter"
   ]
  },
  {
   "cell_type": "code",
   "execution_count": null,
   "metadata": {},
   "outputs": [],
   "source": [
    "def scm(fs, Ms, p_init, p_training_set, tol=1e-1, maxit=100):\n",
    "    t0 = perf_counter()\n",
    "    b = MinEigBounds(fs, Ms)\n",
    "    errors = []\n",
    "    p_max = p_init\n",
    "    p_training_set = set(p_training_set)\n",
    "    for i in range(maxit):\n",
    "        print(i + 1, end='')\n",
    "        b.append(p_max)\n",
    "        p_training_set.discard(p_max)\n",
    "        if not p_training_set:\n",
    "            break\n",
    "        err_max, p_max = max(((1 - b.lb(p)/b.ub(p), p) for p in p_training_set),\n",
    "                             key=lambda x: x[0])\n",
    "        print(f', {err_max:.3e}, {p_max}')\n",
    "        errors.append(err_max)\n",
    "        if err_max <= tol:\n",
    "            break\n",
    "    print('Elapsed time (s):', perf_counter() - t0)\n",
    "    return b, errors"
   ]
  },
  {
   "cell_type": "code",
   "execution_count": null,
   "metadata": {
    "scrolled": true
   },
   "outputs": [],
   "source": [
    "training_set = [(x, y) for x in np.linspace(0, 400, 50) for y in np.linspace(-400, 0, 50)]\n",
    "b_scm, errors_scm = scm(fs, Ms, (200, -200), training_set, tol=0.8, maxit=500)"
   ]
  },
  {
   "cell_type": "code",
   "execution_count": null,
   "metadata": {},
   "outputs": [],
   "source": [
    "fig, ax = plt.subplots()\n",
    "ax.scatter(*zip(*b_scm.thetas))\n",
    "ax.set_aspect('equal')\n",
    "_ = ax.set_title('SCM points')"
   ]
  },
  {
   "cell_type": "code",
   "execution_count": null,
   "metadata": {},
   "outputs": [],
   "source": [
    "it = np.arange(1, len(errors_scm) + 1)\n",
    "fig, ax = plt.subplots()\n",
    "ax.loglog(it, errors_scm, '.-', label='error')\n",
    "ax.loglog(it, 3e2/it, label=r'$O(1/k)$')\n",
    "ax.set_xlabel('Iteration $k$')\n",
    "ax.set_title('SCM errors')\n",
    "ax.grid()\n",
    "_ = ax.legend()"
   ]
  },
  {
   "cell_type": "code",
   "execution_count": null,
   "metadata": {},
   "outputs": [],
   "source": [
    "lb_scm = np.zeros((num_theta2, num_theta1))\n",
    "ub_scm = np.zeros((num_theta2, num_theta1))\n",
    "for j, t1 in enumerate(theta1):\n",
    "    for i, t2 in enumerate(theta2):\n",
    "        lb_scm[i, j] = b_scm.lb((t1, t2))\n",
    "        ub_scm[i, j] = b_scm.ub((t1, t2))\n",
    "vmin_scm = np.min(lb_scm)\n",
    "vmax_scm = np.max(ub_scm)"
   ]
  },
  {
   "cell_type": "code",
   "execution_count": null,
   "metadata": {},
   "outputs": [],
   "source": [
    "fig, axs = plt.subplots(1, 2, figsize=(11, 4))\n",
    "\n",
    "ax = axs[0]\n",
    "out = ax.pcolormesh(theta1, theta2, np.sqrt(lb_scm), shading='gouraud', vmin=np.sqrt(vmin_scm), vmax=np.sqrt(vmax_scm))\n",
    "ax.set_aspect('equal')\n",
    "ax.set_xlabel(r'$\\theta_1$')\n",
    "ax.set_ylabel(r'$\\theta_2$')\n",
    "ax.set_title(r'Lower bound for $\\sigma_{\\min}(A(\\theta))$')\n",
    "\n",
    "ax = axs[1]\n",
    "out = ax.pcolormesh(theta1, theta2, np.sqrt(ub_scm), shading='gouraud', vmin=np.sqrt(vmin_scm), vmax=np.sqrt(vmax_scm))\n",
    "ax.set_aspect('equal')\n",
    "ax.set_xlabel(r'$\\theta_1$')\n",
    "ax.set_ylabel(r'$\\theta_2$')\n",
    "ax.set_title(r'Upper bound for $\\sigma_{\\min}(A(\\theta))$')\n",
    "_ = fig.colorbar(out)"
   ]
  },
  {
   "cell_type": "code",
   "execution_count": null,
   "metadata": {},
   "outputs": [],
   "source": [
    "class MinSinBounds():\n",
    "    def __init__(self, cs, As):\n",
    "        assert len(cs) == len(As)\n",
    "        self.cs = cs\n",
    "        self.As = As\n",
    "        self.fs = []\n",
    "        self.Ms = []\n",
    "        for i in range(len(self.cs)):\n",
    "            for j in range(i, len(self.cs)):\n",
    "                if i == j:\n",
    "                    self.fs.append(lambda x, i=i: self.cs[i](x)**2)\n",
    "                    self.Ms.append(self.As[i].T @ self.As[i])\n",
    "                else:\n",
    "                    self.fs.append(lambda x, i=i, j=j: self.cs[i](x) * self.cs[j](x))\n",
    "                    X = self.As[i].T @ self.As[j]\n",
    "                    self.Ms.append(X + X.T)\n",
    "        self.centers = []\n",
    "        self.samples = {}\n",
    "        self.min_ev = {}\n",
    "        self.ys_local = {}\n",
    "        self.ys = []\n",
    "        self.min_sv = {}\n",
    "        self.A_norms = [spla.norm(A) for A in self.As]\n",
    "        self.bounds = {}\n",
    "\n",
    "    def _update(self, theta):\n",
    "        mat = sum(c(theta) * A for c, A in zip(self.cs, self.As))\n",
    "        U, s, Vh = spla.svd(mat)\n",
    "        x = Vh[-1]\n",
    "        self.ys.append(np.array([M @ x @ x for M in self.Ms]))\n",
    "        self.min_sv[theta] = s[-1]\n",
    "\n",
    "    def add_center(self, center):\n",
    "        assert center not in self.centers\n",
    "        self.centers.append(center)\n",
    "        self.samples[center] = []\n",
    "        self.min_ev[center] = []\n",
    "        self.ys_local[center] = []\n",
    "        self._update(center)\n",
    "        self.bounds[center] = tuple((-norm / self.min_sv[center], norm / self.min_sv[center])\n",
    "                                    for norm in self.A_norms)\n",
    "\n",
    "    def add_sample(self, center, theta):\n",
    "        self.samples[center].append(theta)\n",
    "        self._update(theta)\n",
    "        mat_c = sum(c(center) * A for c, A in zip(self.cs, self.As))\n",
    "        mat_t = sum(c(theta) * A for c, A in zip(self.cs, self.As))\n",
    "        X = spla.solve(mat_c, mat_t)\n",
    "        X = (X + X.T) / 2\n",
    "        e, V = spla.eigh(X)\n",
    "        x = V[:, 0]\n",
    "        self.min_ev[center].append(e[0])\n",
    "        y = []\n",
    "        for A in self.As:\n",
    "            Y = spla.solve(mat_c, A)\n",
    "            y.append(Y @ x @ x)\n",
    "        self.ys_local[center].append(np.array(y))\n",
    "\n",
    "    def lb_center(self, center, theta):\n",
    "        c = np.array([c(theta) for c in self.cs])\n",
    "        A_ub = np.array([[-c(t) for c in self.cs] for t in self.samples[center]])\n",
    "        b_ub = -np.array(self.min_ev[center])\n",
    "        res = linprog(c, A_ub=A_ub, b_ub=b_ub, bounds=self.bounds[center])\n",
    "        return res.fun\n",
    "\n",
    "    def ub_center(self, center, theta):\n",
    "        c = np.array([c(theta) for c in self.cs])\n",
    "        return min(c @ y for y in self.ys_local[center])\n",
    "\n",
    "    def lb(self, theta):\n",
    "        lbs = (self.min_sv[center] * self.lb_center(center, theta)\n",
    "               for center in self.centers)\n",
    "        return max(lbs)\n",
    "\n",
    "    def ub(self, theta):\n",
    "        c = np.array([f(theta) for f in self.fs])\n",
    "        return np.sqrt(min(c @ y for y in self.ys))"
   ]
  },
  {
   "cell_type": "code",
   "execution_count": null,
   "metadata": {},
   "outputs": [],
   "source": [
    "c0 = lambda theta: 1\n",
    "c1 = lambda theta: theta[0]\n",
    "c2 = lambda theta: theta[1]\n",
    "cs = (c0, c1, c2)\n",
    "As = (A_0, A_1, A_2)"
   ]
  },
  {
   "cell_type": "code",
   "execution_count": null,
   "metadata": {},
   "outputs": [],
   "source": [
    "nnb1 = MinSinBounds(cs, As)\n",
    "nnb1.add_center((200, -200))\n",
    "nnb1.add_sample((200, -200), (200, -200))\n",
    "nnlb1 = np.zeros((num_theta2, num_theta1))\n",
    "nnub1 = np.zeros((num_theta2, num_theta1))\n",
    "for j, t1 in enumerate(theta1):\n",
    "    for i, t2 in enumerate(theta2):\n",
    "        nnlb1[i, j] = nnb1.lb((t1, t2))\n",
    "        nnub1[i, j] = nnb1.ub((t1, t2))"
   ]
  },
  {
   "cell_type": "code",
   "execution_count": null,
   "metadata": {},
   "outputs": [],
   "source": [
    "fig, axs = plt.subplots(1, 2, figsize=(12, 4))\n",
    "\n",
    "ax = axs[0]\n",
    "out = ax.pcolormesh(theta1, theta2, nnlb1, shading='gouraud')\n",
    "ax.set_aspect('equal')\n",
    "ax.set_xlabel(r'$\\theta_1$')\n",
    "ax.set_ylabel(r'$\\theta_2$')\n",
    "ax.set_title(r'Lower bound for $\\sigma_{\\min}(A(\\theta))$')\n",
    "_ = fig.colorbar(out)\n",
    "\n",
    "ax = axs[1]\n",
    "out = ax.pcolormesh(theta1, theta2, nnub1, shading='gouraud')\n",
    "ax.set_aspect('equal')\n",
    "ax.set_xlabel(r'$\\theta_1$')\n",
    "ax.set_ylabel(r'$\\theta_2$')\n",
    "ax.set_title(r'Upper bound for $\\sigma_{\\min}(A(\\theta))$')\n",
    "_ = fig.colorbar(out)"
   ]
  },
  {
   "cell_type": "code",
   "execution_count": null,
   "metadata": {},
   "outputs": [],
   "source": [
    "def cnnscm(cs, As, p_init, p_training_set, tol_local=0.8, tol_global=0.8):\n",
    "    t0 = perf_counter()\n",
    "    b = MinSinBounds(cs, As)\n",
    "    center = p_init\n",
    "    p_training_set = set(p_training_set)\n",
    "    positivity_remainder = p_training_set.copy()\n",
    "    i = 0\n",
    "    while True:\n",
    "        i += 1\n",
    "        print(f'Center {i}: {center}')\n",
    "        b.add_center(center)\n",
    "        p_max = center\n",
    "        R_old = set()\n",
    "        R_new = set()\n",
    "        j = 0\n",
    "        while True:\n",
    "            j += 1\n",
    "            print(f'    {j}', end='')\n",
    "            b.add_sample(center, p_max)\n",
    "            R_old = R_new\n",
    "            R_new = set(p for p in p_training_set if b.lb_center(center, p) > 0)\n",
    "            if len(R_new) == len(p_training_set):\n",
    "                print(': Global positivity')\n",
    "                break\n",
    "            err_max, p_max = max(((1 - b.lb_center(center, p)/b.ub_center(center, p), p) for p in p_training_set),\n",
    "                                 key=lambda x: x[0])\n",
    "            R_diff = R_new - R_old\n",
    "            print(f', {len(R_diff):4d}, {err_max:.3e}, {p_max}')\n",
    "            if not R_diff and err_max <= tol_local:\n",
    "                print('    No new positivity and error below tolerance')\n",
    "                break\n",
    "        positivity_remainder -= R_old\n",
    "        if not positivity_remainder:\n",
    "            print('Global positivity achieved')\n",
    "            err_max, p_max = max(((1 - b.lb(p)/b.ub(p), p) for p in p_training_set),\n",
    "                                 key=lambda x: x[0])\n",
    "            print(f'{err_max:.3e}, {p_max}')\n",
    "            if err_max <= tol_global:\n",
    "                print('Global error below tolerance')\n",
    "                break\n",
    "            center = p_max\n",
    "        else:\n",
    "            print(f'Negativity: {len(positivity_remainder)}')\n",
    "            _, center = min(((b.lb_center(center, p), p) for p in positivity_remainder),\n",
    "                            key=lambda x: x[0])\n",
    "    print('Elapsed time (s):', perf_counter() - t0)\n",
    "    return b"
   ]
  },
  {
   "cell_type": "code",
   "execution_count": null,
   "metadata": {
    "scrolled": true
   },
   "outputs": [],
   "source": [
    "b_cnnscm = cnnscm(cs, As, (200, -200), training_set)"
   ]
  },
  {
   "cell_type": "code",
   "execution_count": null,
   "metadata": {},
   "outputs": [],
   "source": [
    "len(b_cnnscm.centers)"
   ]
  },
  {
   "cell_type": "code",
   "execution_count": null,
   "metadata": {},
   "outputs": [],
   "source": [
    "fig, ax = plt.subplots()\n",
    "ax.scatter(*zip(*b_cnnscm.centers))\n",
    "ax.set_aspect('equal')\n",
    "_ = ax.set_title('CNNSCM centers')"
   ]
  },
  {
   "cell_type": "code",
   "execution_count": null,
   "metadata": {},
   "outputs": [],
   "source": [
    "sum(len(x) for x in b_cnnscm.samples.values())"
   ]
  },
  {
   "cell_type": "code",
   "execution_count": null,
   "metadata": {},
   "outputs": [],
   "source": [
    "fig, ax = plt.subplots()\n",
    "for x in b_cnnscm.samples.values():\n",
    "    ax.scatter(*zip(*x))\n",
    "ax.set_aspect('equal')\n",
    "_ = ax.set_title('CNNSCM samples')"
   ]
  },
  {
   "cell_type": "code",
   "execution_count": null,
   "metadata": {},
   "outputs": [],
   "source": [
    "i = 0\n",
    "c = b_cnnscm.centers[i]\n",
    "fig, ax = plt.subplots()\n",
    "ax.scatter(*zip(*b_cnnscm.samples[c]))\n",
    "ax.scatter(*c, marker='x')\n",
    "ax.set_aspect('equal')\n",
    "ax.set_xlim(0, 400)\n",
    "ax.set_ylim(-400, 0)\n",
    "_ = ax.set_title('CNNSCM samples')"
   ]
  },
  {
   "cell_type": "code",
   "execution_count": null,
   "metadata": {},
   "outputs": [],
   "source": [
    "lb_cnnscm = np.zeros((num_theta2, num_theta1))\n",
    "ub_cnnscm = np.zeros((num_theta2, num_theta1))\n",
    "for j, t1 in enumerate(theta1):\n",
    "    for i, t2 in enumerate(theta2):\n",
    "        lb_cnnscm[i, j] = b_cnnscm.lb((t1, t2))\n",
    "        ub_cnnscm[i, j] = b_cnnscm.ub((t1, t2))\n",
    "vmin_cnnscm = np.min(lb_cnnscm)\n",
    "vmax_cnnscm = np.max(ub_cnnscm)"
   ]
  },
  {
   "cell_type": "code",
   "execution_count": null,
   "metadata": {},
   "outputs": [],
   "source": [
    "fig, axs = plt.subplots(1, 2, figsize=(11, 4))\n",
    "\n",
    "ax = axs[0]\n",
    "out = ax.pcolormesh(theta1, theta2, lb_cnnscm, shading='gouraud', vmin=vmin_cnnscm, vmax=vmax_cnnscm)\n",
    "ax.set_aspect('equal')\n",
    "ax.set_xlabel(r'$\\theta_1$')\n",
    "ax.set_ylabel(r'$\\theta_2$')\n",
    "ax.set_title(r'Lower bound for $\\sigma_{\\min}(A(\\theta))$')\n",
    "\n",
    "ax = axs[1]\n",
    "out = ax.pcolormesh(theta1, theta2, ub_cnnscm, shading='gouraud', vmin=vmin_cnnscm, vmax=vmax_cnnscm)\n",
    "ax.set_aspect('equal')\n",
    "ax.set_xlabel(r'$\\theta_1$')\n",
    "ax.set_ylabel(r'$\\theta_2$')\n",
    "ax.set_title(r'Upper bound for $\\sigma_{\\min}(A(\\theta))$')\n",
    "_ = fig.colorbar(out)"
   ]
  }
 ],
 "metadata": {
  "kernelspec": {
   "display_name": "env",
   "language": "python",
   "name": "python3"
  },
  "language_info": {
   "codemirror_mode": {
    "name": "ipython",
    "version": 3
   },
   "file_extension": ".py",
   "mimetype": "text/x-python",
   "name": "python",
   "nbconvert_exporter": "python",
   "pygments_lexer": "ipython3",
   "version": "3.11.8"
  }
 },
 "nbformat": 4,
 "nbformat_minor": 4
}
